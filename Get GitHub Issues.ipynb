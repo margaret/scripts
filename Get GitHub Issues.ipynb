{
 "cells": [
  {
   "cell_type": "markdown",
   "metadata": {},
   "source": [
    "# Get and Parse GitHub Issues From a Private Repo\n",
    "\n",
    "Use the GitHub API to get a list of all the issues in a private repo, and write a subset of the info for each to a CSV. This example uses a public repo so that the super top secret issues on the private repo are not published. The main point here is the commands and first two scripts to collect the issues into one file. The rest of the data munging is up to you.\n",
    "\n",
    "1. Get personal oauth token for GitHub API at https://developer.github.com/guides/getting-started/. You can do all this stuff without a token (and the `-H \"Authorization...`) if you're just getting issues from a public repo. Set it in your shell to the environment variable `$GITHUB_OAUTH`.\n",
    "\n",
    "2. ([Docs](https://developer.github.com/v3/issues/#list-issues-for-a-repository)) Inspect issues for the repo like\n",
    "```bash\n",
    "curl -I -H \"Authorization: token $GITHUB_OAUTH\" \"https://api.github.com/repos/swift-nav/piksi_firmware/issues?state=all\"\n",
    "```\n",
    "To get the link format. Should look something like\n",
    "```\n",
    "Link: <https://api.github.com/repositories/2464156/issues?state=all&page=2>; rel=\"next\", <https://api.github.com/repositories/2464156/issues?state=all&page=25>; rel=\"last\"\n",
    "```\n",
    "\n",
    "3. Get all the pages with this instead of writing an actual parsing/looping script because you're too lazy for that\n",
    "\n",
    "```bash\n",
    "#!/bin/bash\n",
    "PAGES=$1\n",
    "\n",
    "for i in $(seq 1 $PAGES); do\n",
    "  curl -H \\\n",
    "  \"Authorization: token $GITHUB_OAUTH\" \\\n",
    "  \"https://api.github.com/repositories/:repo_number/issues?state=all&page=$i\" > issues$i.json\n",
    "done\n",
    "\n",
    "```\n",
    "\n",
    "Run it like \"`./get_github_issues.sh 25`\". Now you should have a bunch of `issues{n}.json` files."
   ]
  },
  {
   "cell_type": "code",
   "execution_count": 46,
   "metadata": {
    "collapsed": true
   },
   "outputs": [],
   "source": [
    "import json\n",
    "import pandas as pd"
   ]
  },
  {
   "cell_type": "code",
   "execution_count": 76,
   "metadata": {
    "collapsed": false
   },
   "outputs": [],
   "source": [
    "def concat_json(num_pages, filename):\n",
    "    '''Concatenate the files that were output by the script you ran\n",
    "    to get all the response pages.\n",
    "    I'm sure there would have been a nicer way to do this all in pandas,\n",
    "    but this was faster.'''\n",
    "    all_issues = []\n",
    "  \n",
    "    for i in range(1, num_pages+1):\n",
    "        page_file = \"issues{0}.json\".format(i)\n",
    "        with open(page_file) as f:\n",
    "            issues = json.load(f)\n",
    "        # append will create a list of lists of issues in each page\n",
    "        all_issues += (issues)\n",
    "        all_issues_json = json.dumps(all_issues)\n",
    "  \n",
    "    with open(filename, 'w') as f:\n",
    "      f.write(all_issues_json)"
   ]
  },
  {
   "cell_type": "code",
   "execution_count": 77,
   "metadata": {
    "collapsed": false
   },
   "outputs": [],
   "source": [
    "filename = 'piksi_firmware_issues.json'\n",
    "concat_json(25, filename)"
   ]
  },
  {
   "cell_type": "markdown",
   "metadata": {},
   "source": [
    "## Do stuff with the data\n",
    "Not the cleanest script. As in, probably could have done the main thing in a single pandas command, but this is mostly for reference. You can go ahead and do whatever."
   ]
  },
  {
   "cell_type": "code",
   "execution_count": 78,
   "metadata": {
    "collapsed": true
   },
   "outputs": [],
   "source": [
    "with open(filename) as f:\n",
    "    all_issues = json.load(f)"
   ]
  },
  {
   "cell_type": "code",
   "execution_count": 79,
   "metadata": {
    "collapsed": false
   },
   "outputs": [
    {
     "data": {
      "text/plain": [
       "729"
      ]
     },
     "execution_count": 79,
     "metadata": {},
     "output_type": "execute_result"
    }
   ],
   "source": [
    "len(all_issues)"
   ]
  },
  {
   "cell_type": "code",
   "execution_count": 80,
   "metadata": {
    "collapsed": false
   },
   "outputs": [],
   "source": [
    "closed_issues = [issue for issue in all_issues if issue['state'] == 'closed']"
   ]
  },
  {
   "cell_type": "code",
   "execution_count": 81,
   "metadata": {
    "collapsed": false
   },
   "outputs": [
    {
     "data": {
      "text/plain": [
       "621"
      ]
     },
     "execution_count": 81,
     "metadata": {},
     "output_type": "execute_result"
    }
   ],
   "source": [
    "len(closed_issues)"
   ]
  },
  {
   "cell_type": "code",
   "execution_count": 82,
   "metadata": {
    "collapsed": false
   },
   "outputs": [
    {
     "data": {
      "text/plain": [
       "{u'assignee': None,\n",
       " u'assignees': [],\n",
       " u'body': u'Attempts to fix the large drift between pseudorange and carrier-phase @denniszollo observed.\\n\\n@denniszollo Can you test this?\\n',\n",
       " u'closed_at': u'2016-07-07T17:23:19Z',\n",
       " u'comments': 9,\n",
       " u'comments_url': u'https://api.github.com/repos/swift-nav/piksi_firmware/issues/729/comments',\n",
       " u'created_at': u'2016-06-27T13:00:25Z',\n",
       " u'events_url': u'https://api.github.com/repos/swift-nav/piksi_firmware/issues/729/events',\n",
       " u'html_url': u'https://github.com/swift-nav/piksi_firmware/pull/729',\n",
       " u'id': 162446270,\n",
       " u'labels': [],\n",
       " u'labels_url': u'https://api.github.com/repos/swift-nav/piksi_firmware/issues/729/labels{/name}',\n",
       " u'locked': False,\n",
       " u'milestone': None,\n",
       " u'number': 729,\n",
       " u'pull_request': {u'diff_url': u'https://github.com/swift-nav/piksi_firmware/pull/729.diff',\n",
       "  u'html_url': u'https://github.com/swift-nav/piksi_firmware/pull/729',\n",
       "  u'patch_url': u'https://github.com/swift-nav/piksi_firmware/pull/729.patch',\n",
       "  u'url': u'https://api.github.com/repos/swift-nav/piksi_firmware/pulls/729'},\n",
       " u'repository_url': u'https://api.github.com/repos/swift-nav/piksi_firmware',\n",
       " u'state': u'closed',\n",
       " u'title': u'WIP: Adjust carrier phase for receiver clock error',\n",
       " u'updated_at': u'2016-07-07T17:23:19Z',\n",
       " u'url': u'https://api.github.com/repos/swift-nav/piksi_firmware/issues/729',\n",
       " u'user': {u'avatar_url': u'https://avatars.githubusercontent.com/u/1215089?v=3',\n",
       "  u'events_url': u'https://api.github.com/users/ljbade/events{/privacy}',\n",
       "  u'followers_url': u'https://api.github.com/users/ljbade/followers',\n",
       "  u'following_url': u'https://api.github.com/users/ljbade/following{/other_user}',\n",
       "  u'gists_url': u'https://api.github.com/users/ljbade/gists{/gist_id}',\n",
       "  u'gravatar_id': u'',\n",
       "  u'html_url': u'https://github.com/ljbade',\n",
       "  u'id': 1215089,\n",
       "  u'login': u'ljbade',\n",
       "  u'organizations_url': u'https://api.github.com/users/ljbade/orgs',\n",
       "  u'received_events_url': u'https://api.github.com/users/ljbade/received_events',\n",
       "  u'repos_url': u'https://api.github.com/users/ljbade/repos',\n",
       "  u'site_admin': False,\n",
       "  u'starred_url': u'https://api.github.com/users/ljbade/starred{/owner}{/repo}',\n",
       "  u'subscriptions_url': u'https://api.github.com/users/ljbade/subscriptions',\n",
       "  u'type': u'User',\n",
       "  u'url': u'https://api.github.com/users/ljbade'}}"
      ]
     },
     "execution_count": 82,
     "metadata": {},
     "output_type": "execute_result"
    }
   ],
   "source": [
    "closed_issues[0]"
   ]
  },
  {
   "cell_type": "code",
   "execution_count": 83,
   "metadata": {
    "collapsed": false
   },
   "outputs": [],
   "source": [
    "issues = pd.DataFrame(closed_issues)"
   ]
  },
  {
   "cell_type": "code",
   "execution_count": 84,
   "metadata": {
    "collapsed": false
   },
   "outputs": [],
   "source": [
    "issues_info_subset = issues[['title', 'number', 'html_url', 'closed_at', 'state']]"
   ]
  },
  {
   "cell_type": "code",
   "execution_count": 87,
   "metadata": {
    "collapsed": false
   },
   "outputs": [
    {
     "data": {
      "text/html": [
       "<div>\n",
       "<table border=\"1\" class=\"dataframe\">\n",
       "  <thead>\n",
       "    <tr style=\"text-align: right;\">\n",
       "      <th></th>\n",
       "      <th>title</th>\n",
       "      <th>number</th>\n",
       "      <th>html_url</th>\n",
       "      <th>closed_at</th>\n",
       "      <th>state</th>\n",
       "    </tr>\n",
       "  </thead>\n",
       "  <tbody>\n",
       "    <tr>\n",
       "      <th>0</th>\n",
       "      <td>WIP: Adjust carrier phase for receiver clock e...</td>\n",
       "      <td>729</td>\n",
       "      <td>https://github.com/swift-nav/piksi_firmware/pu...</td>\n",
       "      <td>2016-07-07T17:23:19Z</td>\n",
       "      <td>closed</td>\n",
       "    </tr>\n",
       "    <tr>\n",
       "      <th>1</th>\n",
       "      <td>WIP: Fix L2C alias lock detector</td>\n",
       "      <td>728</td>\n",
       "      <td>https://github.com/swift-nav/piksi_firmware/pu...</td>\n",
       "      <td>2016-06-23T15:11:27Z</td>\n",
       "      <td>closed</td>\n",
       "    </tr>\n",
       "    <tr>\n",
       "      <th>2</th>\n",
       "      <td>v3: Support NAP v3.4.0</td>\n",
       "      <td>727</td>\n",
       "      <td>https://github.com/swift-nav/piksi_firmware/pu...</td>\n",
       "      <td>2016-06-22T04:33:00Z</td>\n",
       "      <td>closed</td>\n",
       "    </tr>\n",
       "    <tr>\n",
       "      <th>3</th>\n",
       "      <td>add echo of hw target to all make targets</td>\n",
       "      <td>726</td>\n",
       "      <td>https://github.com/swift-nav/piksi_firmware/pu...</td>\n",
       "      <td>2016-08-14T02:21:46Z</td>\n",
       "      <td>closed</td>\n",
       "    </tr>\n",
       "    <tr>\n",
       "      <th>4</th>\n",
       "      <td>I136 isc use</td>\n",
       "      <td>725</td>\n",
       "      <td>https://github.com/swift-nav/piksi_firmware/pu...</td>\n",
       "      <td>2016-06-29T08:28:34Z</td>\n",
       "      <td>closed</td>\n",
       "    </tr>\n",
       "  </tbody>\n",
       "</table>\n",
       "</div>"
      ],
      "text/plain": [
       "                                               title  number  \\\n",
       "0  WIP: Adjust carrier phase for receiver clock e...     729   \n",
       "1                   WIP: Fix L2C alias lock detector     728   \n",
       "2                             v3: Support NAP v3.4.0     727   \n",
       "3          add echo of hw target to all make targets     726   \n",
       "4                                       I136 isc use     725   \n",
       "\n",
       "                                            html_url             closed_at  \\\n",
       "0  https://github.com/swift-nav/piksi_firmware/pu...  2016-07-07T17:23:19Z   \n",
       "1  https://github.com/swift-nav/piksi_firmware/pu...  2016-06-23T15:11:27Z   \n",
       "2  https://github.com/swift-nav/piksi_firmware/pu...  2016-06-22T04:33:00Z   \n",
       "3  https://github.com/swift-nav/piksi_firmware/pu...  2016-08-14T02:21:46Z   \n",
       "4  https://github.com/swift-nav/piksi_firmware/pu...  2016-06-29T08:28:34Z   \n",
       "\n",
       "    state  \n",
       "0  closed  \n",
       "1  closed  \n",
       "2  closed  \n",
       "3  closed  \n",
       "4  closed  "
      ]
     },
     "execution_count": 87,
     "metadata": {},
     "output_type": "execute_result"
    }
   ],
   "source": [
    "issues_info_subset.head()"
   ]
  },
  {
   "cell_type": "code",
   "execution_count": 88,
   "metadata": {
    "collapsed": true
   },
   "outputs": [],
   "source": [
    "issues_info_subset.to_csv('piksi_firmware_issues.csv', encoding='utf-8')"
   ]
  },
  {
   "cell_type": "markdown",
   "metadata": {},
   "source": [
    "🎉 Go have fun manually categorizing your bugs."
   ]
  },
  {
   "cell_type": "code",
   "execution_count": null,
   "metadata": {
    "collapsed": true
   },
   "outputs": [],
   "source": []
  }
 ],
 "metadata": {
  "kernelspec": {
   "display_name": "Python 2",
   "language": "python",
   "name": "python2"
  },
  "language_info": {
   "codemirror_mode": {
    "name": "ipython",
    "version": 2
   },
   "file_extension": ".py",
   "mimetype": "text/x-python",
   "name": "python",
   "nbconvert_exporter": "python",
   "pygments_lexer": "ipython2",
   "version": "2.7.13"
  }
 },
 "nbformat": 4,
 "nbformat_minor": 2
}
